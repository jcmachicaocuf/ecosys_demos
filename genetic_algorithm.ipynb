{
  "cells": [
    {
      "cell_type": "markdown",
      "metadata": {
        "id": "view-in-github",
        "colab_type": "text"
      },
      "source": [
        "<a href=\"https://colab.research.google.com/github/jcmachicaocuf/ecosys_demos/blob/main/genetic_algorithm.ipynb\" target=\"_parent\"><img src=\"https://colab.research.google.com/assets/colab-badge.svg\" alt=\"Open In Colab\"/></a>"
      ]
    },
    {
      "cell_type": "markdown",
      "source": [
        "# Algoritmos Genéticos"
      ],
      "metadata": {
        "id": "cU7tEYUdtbwJ"
      },
      "id": "cU7tEYUdtbwJ"
    },
    {
      "cell_type": "code",
      "execution_count": 1,
      "id": "b1311bac-9c42-4490-b844-9ddb59a11b64",
      "metadata": {
        "id": "b1311bac-9c42-4490-b844-9ddb59a11b64"
      },
      "outputs": [],
      "source": [
        "import random\n",
        "import string"
      ]
    },
    {
      "cell_type": "code",
      "execution_count": 5,
      "id": "67d200b9-10e2-449b-8716-78e253834e0e",
      "metadata": {
        "id": "67d200b9-10e2-449b-8716-78e253834e0e"
      },
      "outputs": [],
      "source": [
        "# Target phrase we want to evolve\n",
        "TARGET = \"HELLOWORLD\"\n",
        "POP_SIZE = 100\n",
        "MUTATION_RATE = 0.2\n",
        "GENERATIONS = 500"
      ]
    },
    {
      "cell_type": "code",
      "execution_count": 6,
      "id": "a57b400f-7608-4011-8c02-597aed64e8cd",
      "metadata": {
        "id": "a57b400f-7608-4011-8c02-597aed64e8cd"
      },
      "outputs": [],
      "source": [
        "# Generate a random string of the same length as TARGET\n",
        "def random_string():\n",
        "    return ''.join(random.choice(string.ascii_uppercase) for _ in range(len(TARGET)))\n",
        "\n",
        "# Fitness = number of characters that match the target\n",
        "def fitness(individual):\n",
        "    return sum(1 for i, c in enumerate(individual) if c == TARGET[i])\n",
        "\n",
        "# Crossover: combine two parents\n",
        "def crossover(parent1, parent2):\n",
        "    child = ''\n",
        "    for i in range(len(TARGET)):\n",
        "        child += random.choice([parent1[i], parent2[i]])\n",
        "    return child\n",
        "\n",
        "# Mutation: randomly change characters\n",
        "def mutate(individual):\n",
        "    result = ''\n",
        "    for c in individual:\n",
        "        if random.random() < MUTATION_RATE:\n",
        "            result += random.choice(string.ascii_uppercase)\n",
        "        else:\n",
        "            result += c\n",
        "    return result"
      ]
    },
    {
      "cell_type": "code",
      "execution_count": 7,
      "id": "38d8fa89-715f-4073-928a-77dbc97237ce",
      "metadata": {
        "colab": {
          "base_uri": "https://localhost:8080/"
        },
        "id": "38d8fa89-715f-4073-928a-77dbc97237ce",
        "outputId": "5e0d4092-6e64-4612-95c3-ad5e600c6809"
      },
      "outputs": [
        {
          "output_type": "stream",
          "name": "stdout",
          "text": [
            "['SGEJUWLRPB', 'SJQPKWOKWY', 'EEOIGWBKHW', 'YYHLLLJOSK', 'HXAYPDYGOV']\n",
            "Generation 0: SGEJUWLRPB\n",
            "['TPZSQWPRLB', 'LEMLWXSRAG', 'HEZNZWJVHW', 'VPSLUWLRPB', 'VJQLKWOMEY']\n",
            "Generation 1: TPZSQWPRLB\n",
            "['VPSLOWORPA', 'DBBLWWOREY', 'TMHLOWJRUK', 'VPDLKWOMLB', 'HEZLPWHVHF']\n",
            "Generation 2: VPSLOWORPA\n",
            "['HEALKWLRZG', 'ATLLOHORPJ', 'HEZLCWOVEF', 'DPDLWWORLB', 'XPSEOWORVD']\n",
            "Generation 3: HEALKWLRZG\n",
            "['XPWLOKORLD', 'HEALKWORPS', 'WELLOWOUPJ', 'DEDLKWORLY', 'DPSLOWORLT']\n",
            "Generation 4: XPWLOKORLD\n",
            "['HEWLJWORND', 'XELLOKOULD', 'VEZLOWCRVD', 'DEELOWGZLD', 'DESLWWOSLD']\n",
            "Generation 5: HEWLJWORND\n",
            "['HEKLOWORND', 'XEELOWORLD', 'VEOLCWORLD', 'VEZLOWORVD', 'VEZLOWORVD']\n",
            "Generation 6: HEKLOWORND\n",
            "['HEELOWORLD', 'HPLLOWCRLD', 'XELLOWORWD', 'HELLOFORNP', 'HPNFOWORLD']\n",
            "Generation 7: HEELOWORLD\n",
            "['OELLOWORLD', 'HELLBWORLD', 'HEELOWORLD', 'HELLOWJRLD', 'HEJLOWORPD']\n",
            "Generation 8: OELLOWORLD\n",
            "['HELLOWORLD', 'HELLOWORLD', 'HJLLOWORLD', 'HELLOWORFD', 'RELLOWORLA']\n",
            "Generation 9: HELLOWORLD (Perfect match!)\n"
          ]
        }
      ],
      "source": [
        "# Initialize population\n",
        "population = [random_string() for _ in range(POP_SIZE)]\n",
        "\n",
        "for generation in range(GENERATIONS):\n",
        "    # Sort population by fitness\n",
        "    population.sort(key=fitness, reverse=True)\n",
        "    print(population[0:5])\n",
        "    # Check if we found the target\n",
        "    if fitness(population[0]) == len(TARGET):\n",
        "        print(f\"Generation {generation}: {population[0]} (Perfect match!)\")\n",
        "        break\n",
        "\n",
        "    # Print best individual\n",
        "    print(f\"Generation {generation}: {population[0]}\")\n",
        "\n",
        "    # Select top 20% as parents\n",
        "    parents = population[:POP_SIZE // 5]\n",
        "\n",
        "    # Create new generation\n",
        "    children = []\n",
        "    while len(children) < POP_SIZE:\n",
        "        p1, p2 = random.sample(parents, 2)\n",
        "        child = mutate(crossover(p1, p2))\n",
        "        children.append(child)\n",
        "\n",
        "    population = children"
      ]
    },
    {
      "cell_type": "code",
      "execution_count": null,
      "id": "8838feac-4e8c-4901-82bd-983bfacddd30",
      "metadata": {
        "id": "8838feac-4e8c-4901-82bd-983bfacddd30"
      },
      "outputs": [],
      "source": []
    }
  ],
  "metadata": {
    "kernelspec": {
      "display_name": "Python [conda env:base] *",
      "language": "python",
      "name": "conda-base-py"
    },
    "language_info": {
      "codemirror_mode": {
        "name": "ipython",
        "version": 3
      },
      "file_extension": ".py",
      "mimetype": "text/x-python",
      "name": "python",
      "nbconvert_exporter": "python",
      "pygments_lexer": "ipython3",
      "version": "3.11.7"
    },
    "colab": {
      "provenance": [],
      "include_colab_link": true
    }
  },
  "nbformat": 4,
  "nbformat_minor": 5
}